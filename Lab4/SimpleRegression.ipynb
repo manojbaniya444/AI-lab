{
 "cells": [
  {
   "cell_type": "markdown",
   "id": "112291bd-a8ac-40ff-9171-09f60469dc31",
   "metadata": {
    "tags": []
   },
   "source": [
    "## Linear Regression"
   ]
  },
  {
   "cell_type": "code",
   "execution_count": 68,
   "id": "f5273ce1-a398-4fd0-810a-cfda1af55f80",
   "metadata": {
    "tags": []
   },
   "outputs": [],
   "source": [
    "import numpy as np\n",
    "import matplotlib.pyplot as plt"
   ]
  },
  {
   "cell_type": "code",
   "execution_count": 69,
   "id": "3b1585e9-542a-462f-a801-effe865a7e2d",
   "metadata": {
    "tags": []
   },
   "outputs": [],
   "source": [
    "# Create known parameters:\n",
    "\n",
    "weight = 0.7\n",
    "bias = 0.3\n",
    "\n",
    "# Create database:\n",
    "\n",
    "start = 0\n",
    "end = 1 \n",
    "step = 0.02\n",
    "X = np.arange(start, end, step)\n",
    "y = weight*X + bias"
   ]
  },
  {
   "cell_type": "code",
   "execution_count": 70,
   "id": "567f0374-8ead-4afb-b432-3952ad2e12a5",
   "metadata": {
    "tags": []
   },
   "outputs": [
    {
     "name": "stdout",
     "output_type": "stream",
     "text": [
      "First ten entries of X:\n",
      " [0.   0.02 0.04 0.06 0.08 0.1  0.12 0.14 0.16 0.18]\n"
     ]
    }
   ],
   "source": [
    "print(\"First ten entries of X:\\n\", X[:10])"
   ]
  },
  {
   "cell_type": "code",
   "execution_count": 71,
   "id": "c8ff86e4-de3e-40c9-be41-dd0e41b2c2b3",
   "metadata": {
    "tags": []
   },
   "outputs": [
    {
     "name": "stdout",
     "output_type": "stream",
     "text": [
      "First ten entries of y:\n",
      " [0.3   0.314 0.328 0.342 0.356 0.37  0.384 0.398 0.412 0.426]\n"
     ]
    }
   ],
   "source": [
    "print(\"First ten entries of y:\\n\",y[:10])"
   ]
  },
  {
   "cell_type": "code",
   "execution_count": 72,
   "id": "43d1634f-2feb-4fba-9bf5-b66fa8f4d58d",
   "metadata": {
    "tags": []
   },
   "outputs": [
    {
     "data": {
      "text/plain": [
       "(50, 50)"
      ]
     },
     "execution_count": 72,
     "metadata": {},
     "output_type": "execute_result"
    }
   ],
   "source": [
    "len(X), len(y)"
   ]
  },
  {
   "cell_type": "code",
   "execution_count": 73,
   "id": "25c50c89-67cd-482a-b091-6116ffc5281e",
   "metadata": {
    "tags": []
   },
   "outputs": [],
   "source": [
    "# Splitting the dataset\n",
    "\n",
    "splitratio = int(0.8*len(X))\n",
    "\n",
    "X_train, y_train = X[:splitratio], y[:splitratio]\n",
    "X_test, y_test = X[splitratio:], y[splitratio:]"
   ]
  },
  {
   "cell_type": "code",
   "execution_count": 74,
   "id": "8fe4434e-80a4-4fe1-ba09-6c85ba403b50",
   "metadata": {
    "tags": []
   },
   "outputs": [
    {
     "data": {
      "text/plain": [
       "((40,), (40,))"
      ]
     },
     "execution_count": 74,
     "metadata": {},
     "output_type": "execute_result"
    }
   ],
   "source": [
    "X_train.shape, y_train.shape"
   ]
  },
  {
   "cell_type": "code",
   "execution_count": 75,
   "id": "7fd08eda-d72c-48ff-b920-722e407f36ac",
   "metadata": {
    "tags": []
   },
   "outputs": [],
   "source": [
    "def plot_data(train_data = X_train, \n",
    "              train_label = y_train,\n",
    "              test_data = X_test,\n",
    "              test_label = y_test,\n",
    "              predictions = None\n",
    "             ):\n",
    "        plt.figure(figsize=(8,5))\n",
    "        #PLot the training data and train labels\n",
    "        plt.scatter(train_data, train_label, c='b', s=4, label='Training Data')\n",
    "        #PLot the testing data and test labels\n",
    "        plt.scatter(test_data, test_label, c='g', s=4, label='Testing Data')\n",
    "        \n",
    "        #Plot if we have a prediction:\n",
    "        if predictions is not None:\n",
    "            plt.scatter(test_data, predictions, c='r', s=4, label=\"Predicted Data\")\n",
    "            \n",
    "        plt.legend(prop={'size':10})\n",
    "        "
   ]
  },
  {
   "cell_type": "code",
   "execution_count": 76,
   "id": "8f5459ec-37a6-4d48-9445-9349b5628437",
   "metadata": {
    "tags": []
   },
   "outputs": [
    {
     "data": {
      "image/png": "[encoded data removed]",
      "text/plain": [
       "<Figure size 800x500 with 1 Axes>"
      ]
     },
     "metadata": {},
     "output_type": "display_data"
    }
   ],
   "source": [
    "plot_data()"
   ]
  },
  {
   "cell_type": "markdown",
   "id": "432d88b8-4933-46d0-b387-db44512a43b5",
   "metadata": {},
   "source": [
    "## BackPropagation"
   ]
  },
  {
   "cell_type": "code",
   "execution_count": 77,
   "id": "ae1dc989-b826-4550-b454-c7e06d3989d3",
   "metadata": {
    "tags": []
   },
   "outputs": [],
   "source": [
    "# Generating random values for w and b\n",
    "w = np.random.randn(1)\n",
    "b = np.random.randn(1)"
   ]
  },
  {
   "cell_type": "code",
   "execution_count": 78,
   "id": "e92693bd-f040-4fa8-bbfa-67dc8c01096b",
   "metadata": {
    "tags": []
   },
   "outputs": [
    {
     "data": {
      "text/plain": [
       "(array([-1.37594821]), array([1.05182182]))"
      ]
     },
     "execution_count": 78,
     "metadata": {},
     "output_type": "execute_result"
    }
   ],
   "source": [
    "w, b"
   ]
  },
  {
   "cell_type": "code",
   "execution_count": 79,
   "id": "123abc1b-9dfd-4bd5-8b32-d41047589a74",
   "metadata": {
    "tags": []
   },
   "outputs": [],
   "source": [
    "def loss_fn(y_actual, y_predicted):\n",
    "    return np.sum(np.square(y_actual - y_predicted))/len(y_actual)\n"
   ]
  },
  {
   "cell_type": "code",
   "execution_count": 95,
   "id": "9c628b23-26ae-4996-b24f-7dd184bb8f1b",
   "metadata": {
    "tags": []
   },
   "outputs": [
    {
     "name": "stdout",
     "output_type": "stream",
     "text": [
      "Epoch = 0 | Training Loss = 0.00001 | Test Loss = 0.00005\n",
      "Epoch = 10 | Training Loss = 0.00001 | Test Loss = 0.00005\n",
      "Epoch = 20 | Training Loss = 0.00001 | Test Loss = 0.00004\n",
      "Epoch = 30 | Training Loss = 0.00001 | Test Loss = 0.00004\n",
      "Epoch = 40 | Training Loss = 0.00001 | Test Loss = 0.00003\n",
      "Epoch = 50 | Training Loss = 0.00001 | Test Loss = 0.00003\n",
      "Epoch = 60 | Training Loss = 0.00001 | Test Loss = 0.00003\n",
      "Epoch = 70 | Training Loss = 0.00001 | Test Loss = 0.00003\n",
      "Epoch = 80 | Training Loss = 0.00001 | Test Loss = 0.00002\n",
      "Epoch = 90 | Training Loss = 0.00001 | Test Loss = 0.00002\n",
      "Epoch = 100 | Training Loss = 0.00000 | Test Loss = 0.00002\n",
      "Epoch = 110 | Training Loss = 0.00000 | Test Loss = 0.00002\n",
      "Epoch = 120 | Training Loss = 0.00000 | Test Loss = 0.00002\n",
      "Epoch = 130 | Training Loss = 0.00000 | Test Loss = 0.00002\n",
      "Epoch = 140 | Training Loss = 0.00000 | Test Loss = 0.00001\n",
      "Epoch = 150 | Training Loss = 0.00000 | Test Loss = 0.00001\n",
      "Epoch = 160 | Training Loss = 0.00000 | Test Loss = 0.00001\n",
      "Epoch = 170 | Training Loss = 0.00000 | Test Loss = 0.00001\n",
      "Epoch = 180 | Training Loss = 0.00000 | Test Loss = 0.00001\n",
      "Epoch = 190 | Training Loss = 0.00000 | Test Loss = 0.00001\n",
      "Epoch = 200 | Training Loss = 0.00000 | Test Loss = 0.00001\n",
      "Epoch = 210 | Training Loss = 0.00000 | Test Loss = 0.00001\n",
      "Epoch = 220 | Training Loss = 0.00000 | Test Loss = 0.00001\n",
      "Epoch = 230 | Training Loss = 0.00000 | Test Loss = 0.00001\n",
      "Epoch = 240 | Training Loss = 0.00000 | Test Loss = 0.00001\n",
      "Epoch = 250 | Training Loss = 0.00000 | Test Loss = 0.00000\n",
      "Epoch = 260 | Training Loss = 0.00000 | Test Loss = 0.00000\n",
      "Epoch = 270 | Training Loss = 0.00000 | Test Loss = 0.00000\n",
      "Epoch = 280 | Training Loss = 0.00000 | Test Loss = 0.00000\n",
      "Epoch = 290 | Training Loss = 0.00000 | Test Loss = 0.00000\n",
      "Epoch = 300 | Training Loss = 0.00000 | Test Loss = 0.00000\n",
      "Epoch = 310 | Training Loss = 0.00000 | Test Loss = 0.00000\n",
      "Epoch = 320 | Training Loss = 0.00000 | Test Loss = 0.00000\n",
      "Epoch = 330 | Training Loss = 0.00000 | Test Loss = 0.00000\n",
      "Epoch = 340 | Training Loss = 0.00000 | Test Loss = 0.00000\n",
      "Epoch = 350 | Training Loss = 0.00000 | Test Loss = 0.00000\n",
      "Epoch = 360 | Training Loss = 0.00000 | Test Loss = 0.00000\n",
      "Epoch = 370 | Training Loss = 0.00000 | Test Loss = 0.00000\n",
      "Epoch = 380 | Training Loss = 0.00000 | Test Loss = 0.00000\n",
      "Epoch = 390 | Training Loss = 0.00000 | Test Loss = 0.00000\n",
      "Epoch = 400 | Training Loss = 0.00000 | Test Loss = 0.00000\n",
      "Epoch = 410 | Training Loss = 0.00000 | Test Loss = 0.00000\n",
      "Epoch = 420 | Training Loss = 0.00000 | Test Loss = 0.00000\n",
      "Epoch = 430 | Training Loss = 0.00000 | Test Loss = 0.00000\n",
      "Epoch = 440 | Training Loss = 0.00000 | Test Loss = 0.00000\n",
      "Epoch = 450 | Training Loss = 0.00000 | Test Loss = 0.00000\n",
      "Epoch = 460 | Training Loss = 0.00000 | Test Loss = 0.00000\n",
      "Epoch = 470 | Training Loss = 0.00000 | Test Loss = 0.00000\n",
      "Epoch = 480 | Training Loss = 0.00000 | Test Loss = 0.00000\n",
      "Epoch = 490 | Training Loss = 0.00000 | Test Loss = 0.00000\n"
     ]
    }
   ],
   "source": [
    "lr = 0.05\n",
    "epochs= 500\n",
    "loss_list = []\n",
    "test_loss_list = []\n",
    "\n",
    "for epoch in range(epochs):\n",
    "    # Forward propagation\n",
    "    y_pred = X_train*w + b\n",
    "    \n",
    "    # compute the loss\n",
    "    loss = loss_fn(y_actual = y_train, y_predicted = y_pred)\n",
    "    loss_list.append(loss)\n",
    "    \n",
    "    # compute the gradient wrt to w and b\n",
    "    gradientW = (-2*np.sum((y_train-y_pred)*X_train))/len(X_train)\n",
    "    gradientB = (-2*np.sum(y_train-y_pred))/len(X_train)\n",
    "    \n",
    "    # Backpropagation\n",
    "    w = w - lr*gradientW\n",
    "    b = b - lr*gradientB\n",
    "    \n",
    "    \n",
    "    # compute the Test loss\n",
    "    test_pred = X_test*w  + b\n",
    "    test_loss = loss_fn(y_actual=y_test, y_predicted=test_pred)\n",
    "    test_loss_list.append(test_loss)\n",
    "    \n",
    "    if epoch%10 == 0:\n",
    "        print(f'Epoch = {epoch} | Training Loss = {loss:.5f} | Test Loss = {test_loss:.5f}')\n",
    "        \n",
    "    "
   ]
  },
  {
   "cell_type": "code",
   "execution_count": 96,
   "id": "40d3a7c7-55e7-4fcd-8780-10665c31770d",
   "metadata": {},
   "outputs": [
    {
     "data": {
      "text/plain": [
       "<matplotlib.legend.Legend at 0x227976bac10>"
      ]
     },
     "execution_count": 96,
     "metadata": {},
     "output_type": "execute_result"
    },
    {
     "data": {
      "image/png": "[encoded data removed]",
      "text/plain": [
       "<Figure size 640x480 with 1 Axes>"
      ]
     },
     "metadata": {},
     "output_type": "display_data"
    }
   ],
   "source": [
    "# Plotting the train and test loss\n",
    "\n",
    "plt.plot(range(epochs), loss_list, label=\"Training Loss\")\n",
    "plt.plot(range(epochs), test_loss_list, label=\"Testing Loss\")\n",
    "plt.title(\"Epochs vs. Loss\")\n",
    "plt.xlabel(\"Epochs\")\n",
    "plt.ylabel(\"Loss\")\n",
    "plt.legend()"
   ]
  },
  {
   "cell_type": "code",
   "execution_count": 97,
   "id": "67e7a2a3-187d-47be-bf9e-7b08cebe4c0b",
   "metadata": {
    "tags": []
   },
   "outputs": [
    {
     "data": {
      "image/png": "[encoded data removed]",
      "text/plain": [
       "<Figure size 800x500 with 1 Axes>"
      ]
     },
     "metadata": {},
     "output_type": "display_data"
    }
   ],
   "source": [
    "y_pred = X_test*w + b\n",
    "\n",
    "plot_data(predictions= y_pred)"
   ]
  },
  {
   "cell_type": "code",
   "execution_count": 98,
   "id": "a0e471f6-794e-4faa-a751-80ce588e7ce0",
   "metadata": {
    "tags": []
   },
   "outputs": [
    {
     "data": {
      "text/plain": [
       "array([0.69853622])"
      ]
     },
     "execution_count": 98,
     "metadata": {},
     "output_type": "execute_result"
    }
   ],
   "source": [
    "w"
   ]
  },
  {
   "cell_type": "code",
   "execution_count": 99,
   "id": "125f785b-5769-490e-870c-32a144985708",
   "metadata": {
    "tags": []
   },
   "outputs": [
    {
     "data": {
      "text/plain": [
       "array([0.30059838])"
      ]
     },
     "execution_count": 99,
     "metadata": {},
     "output_type": "execute_result"
    }
   ],
   "source": [
    "b"
   ]
  },
  {
   "cell_type": "code",
   "execution_count": null,
   "id": "90594a38-5ddd-4b06-9990-1b4afa87474f",
   "metadata": {},
   "outputs": [],
   "source": []
  }
 ],
 "metadata": {
  "kernelspec": {
   "display_name": "Python 3 (ipykernel)",
   "language": "python",
   "name": "python3"
  },
  "language_info": {
   "codemirror_mode": {
    "name": "ipython",
    "version": 3
   },
   "file_extension": ".py",
   "mimetype": "text/x-python",
   "name": "python",
   "nbconvert_exporter": "python",
   "pygments_lexer": "ipython3",
   "version": "3.11.5"
  }
 },
 "nbformat": 4,
 "nbformat_minor": 5
}
