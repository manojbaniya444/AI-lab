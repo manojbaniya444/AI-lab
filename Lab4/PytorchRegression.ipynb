{
 "cells": [
  {
   "cell_type": "code",
   "execution_count": 3,
   "id": "84bacc98-a2d1-4683-b840-da828db6dacb",
   "metadata": {
    "tags": []
   },
   "outputs": [
    {
     "ename": "ModuleNotFoundError",
     "evalue": "No module named 'torch'",
     "output_type": "error",
     "traceback": [
      "\u001b[1;31m---------------------------------------------------------------------------\u001b[0m",
      "\u001b[1;31mModuleNotFoundError\u001b[0m                       Traceback (most recent call last)",
      "Cell \u001b[1;32mIn[3], line 1\u001b[0m\n\u001b[1;32m----> 1\u001b[0m \u001b[38;5;28;01mimport\u001b[39;00m \u001b[38;5;21;01mtorch\u001b[39;00m\n",
      "\u001b[1;31mModuleNotFoundError\u001b[0m: No module named 'torch'"
     ]
    }
   ],
   "source": [
    "import torch"
   ]
  },
  {
   "cell_type": "code",
   "execution_count": null,
   "id": "95671f6d-1a13-409e-bd23-7c1fb85a2e29",
   "metadata": {},
   "outputs": [],
   "source": [
    "# Create known parameters:\n",
    "\n",
    "weight = 0.7\n",
    "bias = 0.3\n",
    "\n",
    "# Create database:\n",
    "\n",
    "start = 0\n",
    "end = 1 \n",
    "step = 0.02\n",
    "X = np.arange(start, end, step)\n",
    "y = weight*X + bias"
   ]
  },
  {
   "cell_type": "code",
   "execution_count": null,
   "id": "e38a0007-b2c4-4443-b2cf-069e4fb96ba3",
   "metadata": {},
   "outputs": [],
   "source": [
    "# Splitting the dataset\n",
    "\n",
    "splitratio = int(0.8*len(X))\n",
    "\n",
    "X_train, y_train = X[:splitratio], y[:splitratio]\n",
    "X_test, y_test = X[splitratio:], y[splitratio:]"
   ]
  },
  {
   "cell_type": "code",
   "execution_count": null,
   "id": "81a97671-9d65-4495-a7b5-0b38161e9ddc",
   "metadata": {},
   "outputs": [],
   "source": [
    "def plot_data(train_data = X_train, \n",
    "              train_label = y_train,\n",
    "              test_data = X_test,\n",
    "              test_label = y_test,\n",
    "              predictions = None\n",
    "             ):\n",
    "        plt.figure(figsize=(8,5))\n",
    "        #PLot the training data and train labels\n",
    "        plt.scatter(train_data, train_label, c='b', s=4, label='Training Data')\n",
    "        #PLot the testing data and test labels\n",
    "        plt.scatter(test_data, test_label, c='g', s=4, label='Testing Data')\n",
    "        \n",
    "        #Plot if we have a prediction:\n",
    "        if predictions is not None:\n",
    "            plt.scatter(test_data, predictions, c='r', s=4, label=\"Predicted Data\")\n",
    "            \n",
    "        plt.legend(prop={'size':10})"
   ]
  },
  {
   "cell_type": "code",
   "execution_count": 2,
   "id": "914df4b1-89fe-4aca-9ee4-bfbb0680b7d4",
   "metadata": {
    "tags": []
   },
   "outputs": [
    {
     "ename": "NameError",
     "evalue": "name 'nn' is not defined",
     "output_type": "error",
     "traceback": [
      "\u001b[1;31m---------------------------------------------------------------------------\u001b[0m",
      "\u001b[1;31mNameError\u001b[0m                                 Traceback (most recent call last)",
      "Cell \u001b[1;32mIn[2], line 1\u001b[0m\n\u001b[1;32m----> 1\u001b[0m \u001b[38;5;28;01mclass\u001b[39;00m \u001b[38;5;21;01mLinearRegressionModel\u001b[39;00m(nn\u001b[38;5;241m.\u001b[39mModule):\n\u001b[0;32m      2\u001b[0m     \u001b[38;5;28;01mdef\u001b[39;00m \u001b[38;5;21m__init__\u001b[39m(\u001b[38;5;28mself\u001b[39m):\n\u001b[0;32m      3\u001b[0m         \u001b[38;5;28msuper\u001b[39m()\u001b[38;5;241m.\u001b[39m\u001b[38;5;21m__init__\u001b[39m()\n",
      "\u001b[1;31mNameError\u001b[0m: name 'nn' is not defined"
     ]
    }
   ],
   "source": [
    "class LinearRegressionModel(nn.Module):\n",
    "    def __init__(self):\n",
    "        super().__init__()\n",
    "        self.weights = nn.Parameter(torch.randn(1, dtype=torch.float), requires_grad = True)\n",
    "        self.bias = nn.Parameter(torch.randn(1, dtype=torch.float), requires_grad = True)\n",
    "        \n",
    "        def forward(self, x: torch.Tensor) -> torch.Tensor:\n",
    "            return self.weights*x + self.bias"
   ]
  },
  {
   "cell_type": "code",
   "execution_count": 3,
   "id": "7cfe69bc-bd9b-4067-bd57-b3027d86e988",
   "metadata": {
    "tags": []
   },
   "outputs": [
    {
     "ename": "NameError",
     "evalue": "name 'torch' is not defined",
     "output_type": "error",
     "traceback": [
      "\u001b[1;31m---------------------------------------------------------------------------\u001b[0m",
      "\u001b[1;31mNameError\u001b[0m                                 Traceback (most recent call last)",
      "Cell \u001b[1;32mIn[3], line 1\u001b[0m\n\u001b[1;32m----> 1\u001b[0m torch\u001b[38;5;241m.\u001b[39mmanual_seed(\u001b[38;5;241m42\u001b[39m)\n\u001b[0;32m      3\u001b[0m model_0 \u001b[38;5;241m=\u001b[39m LinearRegressionModelV0()\n\u001b[0;32m      5\u001b[0m \u001b[38;5;28mlist\u001b[39m(model_0\u001b[38;5;241m.\u001b[39mparameters())\n",
      "\u001b[1;31mNameError\u001b[0m: name 'torch' is not defined"
     ]
    }
   ],
   "source": [
    "torch.manual_seed(42)\n",
    "\n",
    "model_0 = LinearRegressionModelV0()\n",
    "\n",
    "list(model_0.parameters())"
   ]
  },
  {
   "cell_type": "code",
   "execution_count": 4,
   "id": "f5474b14-7b70-4d61-a721-8474677f1e06",
   "metadata": {
    "tags": []
   },
   "outputs": [
    {
     "ename": "NameError",
     "evalue": "name 'model_0' is not defined",
     "output_type": "error",
     "traceback": [
      "\u001b[1;31m---------------------------------------------------------------------------\u001b[0m",
      "\u001b[1;31mNameError\u001b[0m                                 Traceback (most recent call last)",
      "Cell \u001b[1;32mIn[4], line 1\u001b[0m\n\u001b[1;32m----> 1\u001b[0m model_0\u001b[38;5;241m.\u001b[39mstate_dict()\n",
      "\u001b[1;31mNameError\u001b[0m: name 'model_0' is not defined"
     ]
    }
   ],
   "source": [
    "model_0.state_dict()"
   ]
  },
  {
   "cell_type": "code",
   "execution_count": 5,
   "id": "df5175f9-6afc-41e9-848f-0737fe3c6c64",
   "metadata": {
    "tags": []
   },
   "outputs": [
    {
     "ename": "NameError",
     "evalue": "name 'torch' is not defined",
     "output_type": "error",
     "traceback": [
      "\u001b[1;31m---------------------------------------------------------------------------\u001b[0m",
      "\u001b[1;31mNameError\u001b[0m                                 Traceback (most recent call last)",
      "Cell \u001b[1;32mIn[5], line 1\u001b[0m\n\u001b[1;32m----> 1\u001b[0m \u001b[38;5;28;01mwith\u001b[39;00m torch\u001b[38;5;241m.\u001b[39minference_mode():\n\u001b[0;32m      2\u001b[0m     y_preds \u001b[38;5;241m=\u001b[39m model_0(X_test)\n",
      "\u001b[1;31mNameError\u001b[0m: name 'torch' is not defined"
     ]
    }
   ],
   "source": [
    "with torch.inference_mode():\n",
    "    y_preds = model_0(X_test)"
   ]
  },
  {
   "cell_type": "code",
   "execution_count": 1,
   "id": "494d2669-7773-452e-816c-b02ec18496b6",
   "metadata": {
    "tags": []
   },
   "outputs": [
    {
     "ename": "SyntaxError",
     "evalue": "invalid syntax (2633584542.py, line 6)",
     "output_type": "error",
     "traceback": [
      "\u001b[1;36m  Cell \u001b[1;32mIn[1], line 6\u001b[1;36m\u001b[0m\n\u001b[1;33m    ):\u001b[0m\n\u001b[1;37m     ^\u001b[0m\n\u001b[1;31mSyntaxError\u001b[0m\u001b[1;31m:\u001b[0m invalid syntax\n"
     ]
    }
   ],
   "source": [
    "# setup loss function\n",
    "loss_fn = nn.L2Loss()\n",
    "\n",
    "optimizer = torch.optim.SGD(params=model_0.parameters(),\n",
    "                            lr=0.01\n",
    "                           ):\n",
    "    "
   ]
  },
  {
   "cell_type": "code",
   "execution_count": null,
   "id": "6f540105-936a-4071-bd21-a588b550fa98",
   "metadata": {},
   "outputs": [],
   "source": [
    "torch.manual_seed(42)\n",
    "\n",
    "epochs = 10\n",
    "\n",
    "train_loss_values = []\n",
    "test_loss_values = []\n",
    "epoch_list = []\n",
    "\n",
    "for epoch in range(epochs):\n",
    "    model_0.train()\n",
    "    \n",
    "    # forward pass on train data using the forward function\n",
    "    y_pred = model_0(X_train)\n",
    "    \n",
    "    # compute the training loss\n",
    "    loss = loss_fn(y_train, y_pred)\n",
    "    \n",
    "    optimizer.zero_grad()\n",
    "    \n",
    "    # Loss Backwards torch\n",
    "    loss.backward()\n",
    "    \n",
    "    # Progress the optimizer\n",
    "    optimizer.step()\n",
    "    \n",
    "    model_0.eval()\n",
    "    \n",
    "    with torch.inference_mode():\n",
    "        test_pred = model_0(X_test)\n",
    "        test_loss = loss_fn(y_test, test_pred)\n",
    "        \n",
    "    if epoch%10 == 0:\n",
    "        epoch_list.append(epoch)\n",
    "        train_loss_values.append(loss.detach().numpy())\n",
    "        test_loss_values.append(test_loss.detach().numpy())\n",
    "        print(f'Epoch: {epoch} | MSE Train Loss: {loss:.5f} | MSE Test Loss: {test_loss: .5f}')"
   ]
  }
 ],
 "metadata": {
  "kernelspec": {
   "display_name": "Python 3 (ipykernel)",
   "language": "python",
   "name": "python3"
  },
  "language_info": {
   "codemirror_mode": {
    "name": "ipython",
    "version": 3
   },
   "file_extension": ".py",
   "mimetype": "text/x-python",
   "name": "python",
   "nbconvert_exporter": "python",
   "pygments_lexer": "ipython3",
   "version": "3.11.5"
  }
 },
 "nbformat": 4,
 "nbformat_minor": 5
}
